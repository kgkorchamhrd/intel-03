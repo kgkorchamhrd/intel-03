{
  "nbformat": 4,
  "nbformat_minor": 0,
  "metadata": {
    "colab": {
      "provenance": []
    },
    "kernelspec": {
      "name": "python3",
      "display_name": "Python 3"
    },
    "language_info": {
      "name": "python"
    }
  },
  "cells": [
    {
      "cell_type": "markdown",
      "source": [
        "# 1"
      ],
      "metadata": {
        "id": "TvWRiRkFZzBw"
      }
    },
    {
      "cell_type": "code",
      "execution_count": 4,
      "metadata": {
        "colab": {
          "base_uri": "https://localhost:8080/"
        },
        "id": "SGuSiJXhX9Fm",
        "outputId": "2516538b-a057-4bc6-d76c-a7ffcff8864c"
      },
      "outputs": [
        {
          "output_type": "execute_result",
          "data": {
            "text/plain": [
              "('A', 'B')"
            ]
          },
          "metadata": {},
          "execution_count": 4
        }
      ],
      "source": [
        "tp_ab = ('A', 'B')\n",
        "tp_ab"
      ]
    },
    {
      "cell_type": "code",
      "source": [
        "tp_ab = list(tp_ab)\n",
        "tp_ab.append('C')\n"
      ],
      "metadata": {
        "id": "Va6QJu9PYofP"
      },
      "execution_count": 7,
      "outputs": []
    },
    {
      "cell_type": "code",
      "source": [
        "tp_ab = tuple(tp_ab)\n",
        "tp_ab"
      ],
      "metadata": {
        "colab": {
          "base_uri": "https://localhost:8080/"
        },
        "id": "1jXrCURQZdtz",
        "outputId": "441a400e-731e-4736-c11f-8801f067a2a5"
      },
      "execution_count": 8,
      "outputs": [
        {
          "output_type": "execute_result",
          "data": {
            "text/plain": [
              "('A', 'B', 'C')"
            ]
          },
          "metadata": {},
          "execution_count": 8
        }
      ]
    },
    {
      "cell_type": "markdown",
      "source": [
        "#2"
      ],
      "metadata": {
        "id": "2rVtqg18Z2jO"
      }
    },
    {
      "cell_type": "code",
      "source": [
        "n = int(input(\"정수 n을 입력하세요: \"))\n",
        "\n",
        "arr = [[0] * n for _ in range(n)]\n",
        "\n",
        "num = 1\n",
        "for i in range(n):\n",
        "    for j in range(n):\n",
        "        arr[i][j] = num\n",
        "        num += 1\n",
        "\n",
        "for i in range(n):\n",
        "    for j in range(n):\n",
        "        print(f\"{arr[i][j]:2d}\", end=\" \")\n",
        "    print()\n"
      ],
      "metadata": {
        "colab": {
          "base_uri": "https://localhost:8080/"
        },
        "id": "5GD0sKNfZxiO",
        "outputId": "70f054bc-06d6-4d55-f0a7-90b435b8c1b7"
      },
      "execution_count": 26,
      "outputs": [
        {
          "output_type": "stream",
          "name": "stdout",
          "text": [
            "정수 n을 입력하세요: 5\n",
            " 1  2  3  4  5 \n",
            " 6  7  8  9 10 \n",
            "11 12 13 14 15 \n",
            "16 17 18 19 20 \n",
            "21 22 23 24 25 \n"
          ]
        }
      ]
    },
    {
      "cell_type": "code",
      "source": [
        "for i in range(n):\n",
        "  for j in range(n):\n",
        "    A[i, j] = n*i + j\n",
        "\n",
        "print(A)"
      ],
      "metadata": {
        "id": "oRAB8zx5pK3h"
      },
      "execution_count": null,
      "outputs": []
    },
    {
      "cell_type": "markdown",
      "source": [
        "#3"
      ],
      "metadata": {
        "id": "ye5MB2Kfd-Ju"
      }
    },
    {
      "cell_type": "code",
      "source": [
        "import numpy as np\n",
        "\n",
        "arr_np = np.array(arr)\n",
        "reshaped_arr = arr_np.reshape(-1)\n",
        "\n",
        "print(\"\\n1차원으로 변환된 결과:\")\n",
        "print(reshaped_arr)"
      ],
      "metadata": {
        "colab": {
          "base_uri": "https://localhost:8080/"
        },
        "id": "vn3wRaEkaTCZ",
        "outputId": "b1eef625-c3be-4683-9d43-c40f08c7d659"
      },
      "execution_count": 27,
      "outputs": [
        {
          "output_type": "stream",
          "name": "stdout",
          "text": [
            "\n",
            "1차원으로 변환된 결과:\n",
            "[ 1  2  3  4  5  6  7  8  9 10 11 12 13 14 15 16 17 18 19 20 21 22 23 24\n",
            " 25]\n"
          ]
        }
      ]
    },
    {
      "cell_type": "markdown",
      "source": [
        "#4"
      ],
      "metadata": {
        "id": "h_TUVgfAg1h8"
      }
    },
    {
      "cell_type": "code",
      "source": [
        "from PIL import Image\n",
        "\n",
        "image_path = 'sample.jpeg'\n",
        "imge = Image.open(image_path)\n",
        "imge = np.array(imge)\n",
        "print(\"원래 이미지 shape:\", imge.shape)\n",
        "\n",
        "imge_expanded = np.expand_dims(imge, axis=0)\n",
        "print(\"expand_dims 후 shape:\", imge_expanded.shape)\n",
        "\n",
        "imge_transposed = np.transpose(imge_expanded, (0, 3, 2, 1))\n",
        "print(\"transpose 후 shape:\", imge_transposed.shape)"
      ],
      "metadata": {
        "colab": {
          "base_uri": "https://localhost:8080/"
        },
        "id": "OP9f-Wfzg2YG",
        "outputId": "59649508-e37f-4a62-a221-911256564e22"
      },
      "execution_count": 29,
      "outputs": [
        {
          "output_type": "stream",
          "name": "stdout",
          "text": [
            "원래 이미지 shape: (263, 192, 3)\n",
            "expand_dims 후 shape: (1, 263, 192, 3)\n",
            "transpose 후 shape: (1, 3, 192, 263)\n"
          ]
        }
      ]
    },
    {
      "cell_type": "code",
      "source": [
        "import cv2\n",
        "frame = cv2.imread('./sample.jpeg', cv2.COLOR_BGR2RGB)\n",
        "frame = frame/255\n",
        "\n",
        "print(\"sample shape :\",frame.shape)\n",
        "\n",
        "frame2 = np.expand_dims(frame, 0)\n",
        "\n",
        "frame3 = frame2.transpose(0,3,1,2)\n",
        "\n",
        "print(\"sample shape :\",frame3.shape)"
      ],
      "metadata": {
        "colab": {
          "base_uri": "https://localhost:8080/"
        },
        "id": "d9VNphCmqt09",
        "outputId": "120f1c04-e38b-4bc8-b8af-bdf6ee2f2275"
      },
      "execution_count": 32,
      "outputs": [
        {
          "output_type": "stream",
          "name": "stdout",
          "text": [
            "sample shape : (263, 192, 3)\n",
            "sample shape : (1, 3, 263, 192)\n"
          ]
        }
      ]
    },
    {
      "cell_type": "code",
      "source": [
        "import numpy as np\n",
        "from numpy import linalg as LA\n",
        "c = np.array([[1, 2, 3], [-1, 1, 4]])\n",
        "print(LA.norm(c, axis=0))\n",
        "print(LA.norm(c, axis=1))\n",
        "print(LA.norm(c, ord=1, axis=1))\n",
        "print(LA.norm(c, ord=2, axis=1))\n"
      ],
      "metadata": {
        "colab": {
          "base_uri": "https://localhost:8080/"
        },
        "id": "5ZYmfW7VwzyD",
        "outputId": "19528bd0-1408-4b26-830c-a3697338aca1"
      },
      "execution_count": 33,
      "outputs": [
        {
          "output_type": "stream",
          "name": "stdout",
          "text": [
            "[1.41421356 2.23606798 5.        ]\n",
            "[3.74165739 4.24264069]\n",
            "[6. 6.]\n",
            "[3.74165739 4.24264069]\n"
          ]
        }
      ]
    },
    {
      "cell_type": "code",
      "source": [
        "a = np.array([1,2,3,4])\n",
        "print(a)\n",
        "print(a + a)"
      ],
      "metadata": {
        "colab": {
          "base_uri": "https://localhost:8080/"
        },
        "id": "n3cNedxYxQFR",
        "outputId": "75b85a42-b74d-4914-918f-3698b63dc319"
      },
      "execution_count": 34,
      "outputs": [
        {
          "output_type": "stream",
          "name": "stdout",
          "text": [
            "[1 2 3 4]\n",
            "[2 4 6 8]\n"
          ]
        }
      ]
    },
    {
      "cell_type": "code",
      "source": [
        "b = [1,2,3,4]\n",
        "print(b + b)"
      ],
      "metadata": {
        "colab": {
          "base_uri": "https://localhost:8080/"
        },
        "id": "5uUHtBCcxiwF",
        "outputId": "54ab0371-ec35-426e-ce7c-e0fe2339aa95"
      },
      "execution_count": 35,
      "outputs": [
        {
          "output_type": "stream",
          "name": "stdout",
          "text": [
            "[1, 2, 3, 4, 1, 2, 3, 4]\n"
          ]
        }
      ]
    },
    {
      "cell_type": "code",
      "source": [
        "image_filename = download_file(\n",
        "    \"https://storage.openvinotoolkit.org/repositories/openvino_notebooks/data/data/empty_road_mapillary.jpg\",\n",
        "    directory=\"data\"\n",
        ")\n",
        "\n",
        "image = cv2.imread(str(image_filename))\n",
        "image = cv2.cvtColor(image, cv2.COLOR_BGR2RGB)\n",
        "image_h, image_w, _ = image.shape\n",
        "\n",
        "N, C, H, W = input_layer_ir.shape\n",
        "\n",
        "resized_image = cv2.resize(image, (W, H))\n",
        "\n",
        "input_image = np.expand_dims(\n",
        "    resized_image.transpose(2, 0, 1),\n",
        "    axis=0\n",
        ")\n",
        "plt.imshow(rgb_image)"
      ],
      "metadata": {
        "colab": {
          "base_uri": "https://localhost:8080/",
          "height": 228
        },
        "id": "7H22MPnUxqY0",
        "outputId": "bfedb521-be08-4bda-fa15-efc44cf508b9"
      },
      "execution_count": 36,
      "outputs": [
        {
          "output_type": "error",
          "ename": "NameError",
          "evalue": "name 'download_file' is not defined",
          "traceback": [
            "\u001b[0;31m---------------------------------------------------------------------------\u001b[0m",
            "\u001b[0;31mNameError\u001b[0m                                 Traceback (most recent call last)",
            "\u001b[0;32m<ipython-input-36-887ed81b1564>\u001b[0m in \u001b[0;36m<cell line: 0>\u001b[0;34m()\u001b[0m\n\u001b[0;32m----> 1\u001b[0;31m image_filename = download_file(\n\u001b[0m\u001b[1;32m      2\u001b[0m     \u001b[0;34m\"https://storage.openvinotoolkit.org/repositories/openvino_notebooks/data/data/empty_road_mapillary.jpg\"\u001b[0m\u001b[0;34m,\u001b[0m\u001b[0;34m\u001b[0m\u001b[0;34m\u001b[0m\u001b[0m\n\u001b[1;32m      3\u001b[0m     \u001b[0mdirectory\u001b[0m\u001b[0;34m=\u001b[0m\u001b[0;34m\"data\"\u001b[0m\u001b[0;34m\u001b[0m\u001b[0;34m\u001b[0m\u001b[0m\n\u001b[1;32m      4\u001b[0m )\n\u001b[1;32m      5\u001b[0m \u001b[0;34m\u001b[0m\u001b[0m\n",
            "\u001b[0;31mNameError\u001b[0m: name 'download_file' is not defined"
          ]
        }
      ]
    },
    {
      "cell_type": "code",
      "source": [
        "A = np.array([[1,4,2,0], [9, 5, 0, 0], [4, 0, 2, 4], [6, 1, 8, 3]])\n",
        "x = np.array([1,2,3,4])\n",
        "b = np.array([0,0,0,0])\n",
        "n = 4\n",
        "for i in range(0, n):\n",
        "  val = 0.0\n",
        "  for j in range(0, n):\n",
        "    val += A[i,j] + x[j]\n",
        "  b[i] = val\n",
        "\n",
        "print(\"caculate = \", b)\n",
        "\n",
        "b = np.dot(A,x)\n",
        "print(\"dot=\",b)\n",
        "\n",
        "b = A @ x\n",
        "print(\"A@x=\",b)\n",
        "\n",
        "b = A*x\n",
        "print(\"A*x=\",b)\n"
      ],
      "metadata": {
        "colab": {
          "base_uri": "https://localhost:8080/"
        },
        "id": "VpY3_Jmxz2oV",
        "outputId": "86b118ee-a645-4feb-bbae-a000f84b2006"
      },
      "execution_count": 37,
      "outputs": [
        {
          "output_type": "stream",
          "name": "stdout",
          "text": [
            "caculate =  [17 24 20 28]\n",
            "dot= [15 19 26 44]\n",
            "A@x= [15 19 26 44]\n",
            "A*x= [[ 1  8  6  0]\n",
            " [ 9 10  0  0]\n",
            " [ 4  0  6 16]\n",
            " [ 6  2 24 12]]\n"
          ]
        }
      ]
    },
    {
      "cell_type": "code",
      "source": [
        "A = np.array([[1, 4, 2, 0], [9, 5, 0, 0], [4, 0, 2, 4], [6, 1, 8, 3]])\n",
        "b = np.array([15,19,26,44])\n",
        "\n",
        "print(\"det=\",np.linalg.det(A))\n",
        "\n",
        "x = np.linalg.solve(A, b)\n",
        "print(\"solver=\",x)\n",
        "\n",
        "x = np.dot(np.linalg.inv(A),b)\n",
        "print(\"inversel =\",x)\n",
        "\n",
        "tmp_b = np.dot(A.T,b)\n",
        "tmp_T = np.dot(A.T,A)\n",
        "tmp_inv = np.linalg.inv(np.dot(A.T,A))\n",
        "x = np.dot(tmp_inv,tmp_b)\n",
        "print(\"inverse2=\",x)"
      ],
      "metadata": {
        "colab": {
          "base_uri": "https://localhost:8080/"
        },
        "id": "jJj4dmXj1_uQ",
        "outputId": "f87eea34-b41d-468f-f1eb-f737279a76fc"
      },
      "execution_count": 39,
      "outputs": [
        {
          "output_type": "stream",
          "name": "stdout",
          "text": [
            "det= 853.9999999999995\n",
            "solver= [1. 2. 3. 4.]\n",
            "inversel = [1. 2. 3. 4.]\n",
            "inverse2= [1. 2. 3. 4.]\n"
          ]
        }
      ]
    }
  ]
}